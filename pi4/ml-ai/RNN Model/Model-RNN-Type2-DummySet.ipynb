{
 "cells": [
  {
   "cell_type": "code",
   "execution_count": 2,
   "id": "f8872dc2-1bd8-4314-9fa7-0b5179ac8635",
   "metadata": {},
   "outputs": [],
   "source": [
    "import pandas as pd\n",
    "import numpy as np\n",
    "import torch\n",
    "import torch.nn as nn\n",
    "from torch.utils.data import Dataset, DataLoader\n",
    "from sklearn.preprocessing import MinMaxScaler\n"
   ]
  },
  {
   "cell_type": "code",
   "execution_count": 3,
   "id": "27e4a741-79c3-4ed8-ab78-97fa0526e79c",
   "metadata": {},
   "outputs": [],
   "source": [
    "# Load the dataset\n",
    "data = pd.read_csv('./csv/dummyData-3-seasonal_notAmerican.csv', header=None, names=['date', 'avail'])"
   ]
  },
  {
   "cell_type": "code",
   "execution_count": 3,
   "id": "41c8ffcc-d7b7-46fd-8ffc-97b28edf20d7",
   "metadata": {},
   "outputs": [
    {
     "name": "stderr",
     "output_type": "stream",
     "text": [
      "/tmp/ipykernel_18039/4147684296.py:2: UserWarning: Could not infer format, so each element will be parsed individually, falling back to `dateutil`. To ensure parsing is consistent and as-expected, please specify a format.\n",
      "  data['date'] = pd.to_datetime(data['date'], errors='coerce')\n"
     ]
    }
   ],
   "source": [
    "# Convert the 'date' column to datetime\n",
    "data['date'] = pd.to_datetime(data['date'], errors='coerce')\n",
    "\n",
    "# Drop rows with invalid dates\n",
    "data = data.dropna(subset=['date'])\n",
    "\n",
    "# Sort the data by date\n",
    "data = data.sort_values('date')\n",
    "\n",
    "# Ensure 'avail' is numeric\n",
    "data['avail'] = pd.to_numeric(data['avail'], errors='coerce')\n",
    "\n",
    "# Drop rows with NaN in 'avail'\n",
    "data = data.dropna(subset=['avail'])"
   ]
  },
  {
   "cell_type": "code",
   "execution_count": 4,
   "id": "e0c02824-233c-4246-9305-1b902c8257ad",
   "metadata": {},
   "outputs": [
    {
     "data": {
      "text/html": [
       "<div>\n",
       "<style scoped>\n",
       "    .dataframe tbody tr th:only-of-type {\n",
       "        vertical-align: middle;\n",
       "    }\n",
       "\n",
       "    .dataframe tbody tr th {\n",
       "        vertical-align: top;\n",
       "    }\n",
       "\n",
       "    .dataframe thead th {\n",
       "        text-align: right;\n",
       "    }\n",
       "</style>\n",
       "<table border=\"1\" class=\"dataframe\">\n",
       "  <thead>\n",
       "    <tr style=\"text-align: right;\">\n",
       "      <th></th>\n",
       "      <th>date</th>\n",
       "      <th>avail</th>\n",
       "      <th>month</th>\n",
       "      <th>day_of_year</th>\n",
       "      <th>year</th>\n",
       "    </tr>\n",
       "  </thead>\n",
       "  <tbody>\n",
       "    <tr>\n",
       "      <th>0.0</th>\n",
       "      <td>2018-01-01</td>\n",
       "      <td>1</td>\n",
       "      <td>1</td>\n",
       "      <td>0.003</td>\n",
       "      <td>2018</td>\n",
       "    </tr>\n",
       "    <tr>\n",
       "      <th>1.0</th>\n",
       "      <td>2018-01-02</td>\n",
       "      <td>0</td>\n",
       "      <td>1</td>\n",
       "      <td>0.005</td>\n",
       "      <td>2018</td>\n",
       "    </tr>\n",
       "    <tr>\n",
       "      <th>2.0</th>\n",
       "      <td>2018-01-03</td>\n",
       "      <td>1</td>\n",
       "      <td>1</td>\n",
       "      <td>0.008</td>\n",
       "      <td>2018</td>\n",
       "    </tr>\n",
       "    <tr>\n",
       "      <th>3.0</th>\n",
       "      <td>2018-01-04</td>\n",
       "      <td>0</td>\n",
       "      <td>1</td>\n",
       "      <td>0.011</td>\n",
       "      <td>2018</td>\n",
       "    </tr>\n",
       "    <tr>\n",
       "      <th>4.0</th>\n",
       "      <td>2018-01-05</td>\n",
       "      <td>1</td>\n",
       "      <td>1</td>\n",
       "      <td>0.014</td>\n",
       "      <td>2018</td>\n",
       "    </tr>\n",
       "    <tr>\n",
       "      <th>...</th>\n",
       "      <td>...</td>\n",
       "      <td>...</td>\n",
       "      <td>...</td>\n",
       "      <td>...</td>\n",
       "      <td>...</td>\n",
       "    </tr>\n",
       "    <tr>\n",
       "      <th>2186.0</th>\n",
       "      <td>2023-12-27</td>\n",
       "      <td>0</td>\n",
       "      <td>12</td>\n",
       "      <td>0.989</td>\n",
       "      <td>2023</td>\n",
       "    </tr>\n",
       "    <tr>\n",
       "      <th>2187.0</th>\n",
       "      <td>2023-12-28</td>\n",
       "      <td>1</td>\n",
       "      <td>12</td>\n",
       "      <td>0.992</td>\n",
       "      <td>2023</td>\n",
       "    </tr>\n",
       "    <tr>\n",
       "      <th>2188.0</th>\n",
       "      <td>2023-12-29</td>\n",
       "      <td>0</td>\n",
       "      <td>12</td>\n",
       "      <td>0.995</td>\n",
       "      <td>2023</td>\n",
       "    </tr>\n",
       "    <tr>\n",
       "      <th>2189.0</th>\n",
       "      <td>2023-12-30</td>\n",
       "      <td>1</td>\n",
       "      <td>12</td>\n",
       "      <td>0.997</td>\n",
       "      <td>2023</td>\n",
       "    </tr>\n",
       "    <tr>\n",
       "      <th>2190.0</th>\n",
       "      <td>2023-12-31</td>\n",
       "      <td>0</td>\n",
       "      <td>12</td>\n",
       "      <td>1.000</td>\n",
       "      <td>2023</td>\n",
       "    </tr>\n",
       "  </tbody>\n",
       "</table>\n",
       "<p>2191 rows × 5 columns</p>\n",
       "</div>"
      ],
      "text/plain": [
       "             date  avail  month  day_of_year  year\n",
       "0.0    2018-01-01      1      1        0.003  2018\n",
       "1.0    2018-01-02      0      1        0.005  2018\n",
       "2.0    2018-01-03      1      1        0.008  2018\n",
       "3.0    2018-01-04      0      1        0.011  2018\n",
       "4.0    2018-01-05      1      1        0.014  2018\n",
       "...           ...    ...    ...          ...   ...\n",
       "2186.0 2023-12-27      0     12        0.989  2023\n",
       "2187.0 2023-12-28      1     12        0.992  2023\n",
       "2188.0 2023-12-29      0     12        0.995  2023\n",
       "2189.0 2023-12-30      1     12        0.997  2023\n",
       "2190.0 2023-12-31      0     12        1.000  2023\n",
       "\n",
       "[2191 rows x 5 columns]"
      ]
     },
     "execution_count": 4,
     "metadata": {},
     "output_type": "execute_result"
    }
   ],
   "source": [
    "# Extract additional time features\n",
    "data['month'] = data['date'].dt.month\n",
    "data['day_of_year'] = data['date'].dt.dayofyear / 365.0\n",
    "data['day_of_year'] = data['day_of_year'].apply(lambda x: round(x, 3))\n",
    "data['year'] = data['date'].dt.year\n",
    "data"
   ]
  },
  {
   "cell_type": "code",
   "execution_count": 5,
   "id": "46bbb524-e29f-40b1-9c02-0fc6b1ebf547",
   "metadata": {},
   "outputs": [],
   "source": [
    "# Normalize the 'avail' column\n",
    "scaler = MinMaxScaler(feature_range=(0, 1))\n",
    "data['avail'] = scaler.fit_transform(data[['avail']])"
   ]
  },
  {
   "cell_type": "code",
   "execution_count": 6,
   "id": "a4a38689-bf42-46ad-8267-bd8fb0b036c5",
   "metadata": {},
   "outputs": [],
   "source": [
    "# Function to create sequences\n",
    "def create_sequences(data, seq_length):\n",
    "    xs, ys = [], []\n",
    "    for i in range(len(data) - seq_length):\n",
    "        x = data.iloc[i:i + seq_length][['avail', 'day_of_year']].values\n",
    "        y = data.iloc[i + seq_length]['avail']\n",
    "        xs.append(x)\n",
    "        ys.append(y)\n",
    "    return np.array(xs), np.array(ys)\n",
    "# Create sequences\n",
    "sequence_length = 7\n",
    "X, y = create_sequences(data, sequence_length)"
   ]
  },
  {
   "cell_type": "code",
   "execution_count": 7,
   "id": "8e7e92e3-64b1-48a6-bc02-c3bb7f09772f",
   "metadata": {},
   "outputs": [
    {
     "data": {
      "text/plain": [
       "30576"
      ]
     },
     "execution_count": 7,
     "metadata": {},
     "output_type": "execute_result"
    }
   ],
   "source": [
    "X.size"
   ]
  },
  {
   "cell_type": "code",
   "execution_count": 8,
   "id": "374ef805-5c1e-485e-a606-d8d7eda92670",
   "metadata": {},
   "outputs": [],
   "source": [
    "class AvailabilityDataset(Dataset):\n",
    "    def __init__(self, X, y):\n",
    "        self.X = torch.tensor(X, dtype=torch.float32)\n",
    "        self.y = torch.tensor(y, dtype=torch.float32)\n",
    "\n",
    "    def __len__(self):\n",
    "        return len(self.X)\n",
    "\n",
    "    def __getitem__(self, index):\n",
    "        return self.X[index], self.y[index]\n",
    "\n",
    "dataset = AvailabilityDataset(X, y)\n",
    "dataloader = DataLoader(dataset, batch_size=32, shuffle=True)\n"
   ]
  },
  {
   "cell_type": "code",
   "execution_count": 6,
   "id": "d2cd17be-7838-419b-a114-fe338f568c32",
   "metadata": {},
   "outputs": [],
   "source": [
    "class RNNModel(nn.Module):\n",
    "    def __init__(self, input_size=2, hidden_size=50, output_size=1, num_layers=2):\n",
    "        super(RNNModel, self).__init__()\n",
    "        self.hidden_size = hidden_size\n",
    "        self.num_layers = num_layers\n",
    "        self.rnn = nn.RNN(input_size, hidden_size, num_layers, batch_first=True)\n",
    "        self.fc = nn.Linear(hidden_size, output_size)\n",
    "\n",
    "    def forward(self, x):\n",
    "        h0 = torch.zeros(self.num_layers, x.size(0), self.hidden_size).to(x.device)\n",
    "        out, _ = self.rnn(x, h0)\n",
    "        out = self.fc(out[:, -1, :])\n",
    "        return torch.sigmoid(out)\n",
    "\n",
    "model = RNNModel()\n"
   ]
  },
  {
   "cell_type": "code",
   "execution_count": 10,
   "id": "ca1d6aa4-14e2-4e41-a878-3c23e7f39ebf",
   "metadata": {
    "scrolled": true
   },
   "outputs": [
    {
     "name": "stdout",
     "output_type": "stream",
     "text": [
      "Epoch [10/1000], Loss: 0.2507\n",
      "Epoch [20/1000], Loss: 0.2652\n",
      "Epoch [30/1000], Loss: 0.3461\n",
      "Epoch [40/1000], Loss: 0.1029\n",
      "Epoch [50/1000], Loss: 0.2863\n",
      "Epoch [60/1000], Loss: 0.5811\n",
      "Epoch [70/1000], Loss: 0.1530\n",
      "Epoch [80/1000], Loss: 0.4167\n",
      "Epoch [90/1000], Loss: 0.2783\n",
      "Epoch [100/1000], Loss: 0.1499\n",
      "Epoch [110/1000], Loss: 0.2435\n",
      "Epoch [120/1000], Loss: 0.3050\n",
      "Epoch [130/1000], Loss: 0.1979\n",
      "Epoch [140/1000], Loss: 0.2977\n",
      "Epoch [150/1000], Loss: 0.1265\n",
      "Epoch [160/1000], Loss: 0.2874\n",
      "Epoch [170/1000], Loss: 0.1517\n",
      "Epoch [180/1000], Loss: 0.3453\n",
      "Epoch [190/1000], Loss: 0.5592\n",
      "Epoch [200/1000], Loss: 0.3334\n",
      "Epoch [210/1000], Loss: 0.3438\n",
      "Epoch [220/1000], Loss: 0.0983\n",
      "Epoch [230/1000], Loss: 0.2908\n",
      "Epoch [240/1000], Loss: 0.1557\n",
      "Epoch [250/1000], Loss: 0.1399\n",
      "Epoch [260/1000], Loss: 0.0604\n",
      "Epoch [270/1000], Loss: 0.2228\n",
      "Epoch [280/1000], Loss: 0.0426\n",
      "Epoch [290/1000], Loss: 0.1678\n",
      "Epoch [300/1000], Loss: 0.6564\n",
      "Epoch [310/1000], Loss: 0.2141\n",
      "Epoch [320/1000], Loss: 0.1767\n",
      "Epoch [330/1000], Loss: 0.1987\n",
      "Epoch [340/1000], Loss: 0.2787\n",
      "Epoch [350/1000], Loss: 0.2197\n",
      "Epoch [360/1000], Loss: 0.4327\n",
      "Epoch [370/1000], Loss: 0.1395\n",
      "Epoch [380/1000], Loss: 0.1692\n",
      "Epoch [390/1000], Loss: 0.0151\n",
      "Epoch [400/1000], Loss: 0.1679\n",
      "Epoch [410/1000], Loss: 0.0956\n",
      "Epoch [420/1000], Loss: 0.0124\n",
      "Epoch [430/1000], Loss: 0.2103\n",
      "Epoch [440/1000], Loss: 0.2136\n",
      "Epoch [450/1000], Loss: 0.1021\n",
      "Epoch [460/1000], Loss: 0.2400\n",
      "Epoch [470/1000], Loss: 0.0821\n",
      "Epoch [480/1000], Loss: 0.2320\n",
      "Epoch [490/1000], Loss: 0.2458\n",
      "Epoch [500/1000], Loss: 0.4693\n",
      "Epoch [510/1000], Loss: 0.1181\n",
      "Epoch [520/1000], Loss: 0.3327\n",
      "Epoch [530/1000], Loss: 0.1843\n",
      "Epoch [540/1000], Loss: 0.0404\n",
      "Epoch [550/1000], Loss: 0.1215\n",
      "Epoch [560/1000], Loss: 0.3943\n",
      "Epoch [570/1000], Loss: 0.1716\n",
      "Epoch [580/1000], Loss: 0.1046\n",
      "Epoch [590/1000], Loss: 0.1138\n",
      "Epoch [600/1000], Loss: 0.2996\n",
      "Epoch [610/1000], Loss: 0.3258\n",
      "Epoch [620/1000], Loss: 0.4052\n",
      "Epoch [630/1000], Loss: 0.5132\n",
      "Epoch [640/1000], Loss: 0.2230\n",
      "Epoch [650/1000], Loss: 0.0869\n",
      "Epoch [660/1000], Loss: 0.1212\n",
      "Epoch [670/1000], Loss: 0.2597\n",
      "Epoch [680/1000], Loss: 0.0864\n",
      "Epoch [690/1000], Loss: 0.1855\n",
      "Epoch [700/1000], Loss: 0.0065\n",
      "Epoch [710/1000], Loss: 0.0317\n",
      "Epoch [720/1000], Loss: 0.3425\n",
      "Epoch [730/1000], Loss: 0.5212\n",
      "Epoch [740/1000], Loss: 0.0904\n",
      "Epoch [750/1000], Loss: 0.0616\n",
      "Epoch [760/1000], Loss: 0.1899\n",
      "Epoch [770/1000], Loss: 0.1575\n",
      "Epoch [780/1000], Loss: 0.1994\n",
      "Epoch [790/1000], Loss: 0.0024\n",
      "Epoch [800/1000], Loss: 0.0274\n",
      "Epoch [810/1000], Loss: 0.4148\n",
      "Epoch [820/1000], Loss: 0.2640\n",
      "Epoch [830/1000], Loss: 0.2457\n",
      "Epoch [840/1000], Loss: 0.3106\n",
      "Epoch [850/1000], Loss: 0.6270\n",
      "Epoch [860/1000], Loss: 0.1921\n",
      "Epoch [870/1000], Loss: 0.2639\n",
      "Epoch [880/1000], Loss: 0.2457\n",
      "Epoch [890/1000], Loss: 0.2583\n",
      "Epoch [900/1000], Loss: 0.1529\n",
      "Epoch [910/1000], Loss: 0.0126\n",
      "Epoch [920/1000], Loss: 0.2822\n",
      "Epoch [930/1000], Loss: 0.0074\n",
      "Epoch [940/1000], Loss: 0.0753\n",
      "Epoch [950/1000], Loss: 0.2117\n",
      "Epoch [960/1000], Loss: 0.0236\n",
      "Epoch [970/1000], Loss: 0.0596\n",
      "Epoch [980/1000], Loss: 0.1105\n",
      "Epoch [990/1000], Loss: 0.1884\n",
      "Epoch [1000/1000], Loss: 0.1985\n"
     ]
    }
   ],
   "source": [
    "# Loss and optimizer\n",
    "criterion = nn.BCELoss()\n",
    "optimizer = torch.optim.Adam(model.parameters(), lr=0.001)\n",
    "\n",
    "# Training loop\n",
    "num_epochs = 1000\n",
    "\n",
    "for epoch in range(num_epochs):\n",
    "    for X_batch, y_batch in dataloader:\n",
    "        # Forward pass\n",
    "        outputs = model(X_batch)\n",
    "        # print(outputs.squeeze())\n",
    "        loss = criterion(outputs.squeeze(), y_batch)\n",
    "        \n",
    "        # Backward pass and optimization\n",
    "        optimizer.zero_grad()\n",
    "        loss.backward()\n",
    "        optimizer.step()\n",
    "    \n",
    "    if (epoch+1) % 10 == 0:\n",
    "        print(f'Epoch [{epoch+1}/{num_epochs}], Loss: {loss.item():.4f}')\n"
   ]
  },
  {
   "cell_type": "code",
   "execution_count": 11,
   "id": "6865a7e9-0cce-495a-90f1-d50496fbacd9",
   "metadata": {},
   "outputs": [
    {
     "name": "stdout",
     "output_type": "stream",
     "text": [
      "[[0.    0.984]\n",
      " [1.    0.986]\n",
      " [0.    0.989]\n",
      " [1.    0.992]\n",
      " [0.    0.995]\n",
      " [1.    0.997]\n",
      " [0.    1.   ]]\n",
      "Predicted availability for the next day: 1\n"
     ]
    }
   ],
   "source": [
    "def predict(model, X):\n",
    "    model.eval()\n",
    "    with torch.no_grad():\n",
    "        X = torch.tensor(X, dtype=torch.float32)\n",
    "        prediction = model(X)\n",
    "        return prediction.item()\n",
    "\n",
    "# Example usage\n",
    "last_sequence = data.iloc[-sequence_length:][['avail', 'day_of_year']].values\n",
    "next_day_avail = predict(model, last_sequence.reshape(1, sequence_length, 2))\n",
    "print(last_sequence)\n",
    "print(f'Predicted availability for the next day: {round(next_day_avail)}')\n"
   ]
  },
  {
   "cell_type": "code",
   "execution_count": 12,
   "id": "c9131884-6627-4736-8b89-7c21e99b02a7",
   "metadata": {},
   "outputs": [],
   "source": [
    "last_day = np.array([134,135,136,137,138,139,140]) / 365.0\n",
    "last_day = np.round(last_day,3)\n",
    "avail = np.array([0,1,0,1,0,1,0])\n",
    "last_sequence= np.vstack(( avail,last_day)).T"
   ]
  },
  {
   "cell_type": "code",
   "execution_count": 13,
   "id": "01de0b53-76c2-4379-9f25-9e964ddad20a",
   "metadata": {},
   "outputs": [
    {
     "name": "stdout",
     "output_type": "stream",
     "text": [
      "[[0.    0.367]\n",
      " [1.    0.37 ]\n",
      " [0.    0.373]\n",
      " [1.    0.375]\n",
      " [0.    0.378]\n",
      " [1.    0.381]\n",
      " [0.    0.384]]\n"
     ]
    }
   ],
   "source": [
    "print(last_sequence)"
   ]
  },
  {
   "cell_type": "code",
   "execution_count": 14,
   "id": "9ee75142-1c24-445d-b7d1-00dc158bf4ad",
   "metadata": {},
   "outputs": [
    {
     "name": "stdout",
     "output_type": "stream",
     "text": [
      "[[0.    0.367]\n",
      " [1.    0.37 ]\n",
      " [0.    0.373]\n",
      " [1.    0.375]\n",
      " [0.    0.378]\n",
      " [1.    0.381]\n",
      " [0.    0.384]]\n",
      "Predicted availability for the next day: 1\n"
     ]
    }
   ],
   "source": [
    "next_day_avail = predict(model, last_sequence.reshape(1, sequence_length, 2))\n",
    "print(last_sequence)\n",
    "print(f'Predicted availability for the next day: {round(next_day_avail)}')"
   ]
  },
  {
   "cell_type": "code",
   "execution_count": 15,
   "id": "2e9ae2c0-765f-4e76-9e6b-c0c47da0a21c",
   "metadata": {},
   "outputs": [],
   "source": [
    "torch.save(model,\"./model/RNNmodelDummySet-4-Loss_%12.h5\")"
   ]
  },
  {
   "cell_type": "code",
   "execution_count": 60,
   "id": "806926d1-fe98-4425-a0bd-126f2a329fe4",
   "metadata": {},
   "outputs": [
    {
     "data": {
      "text/plain": [
       "Text(0.5, 1.0, 'Availability over Time with Seasonal Bias (Dots)')"
      ]
     },
     "execution_count": 60,
     "metadata": {},
     "output_type": "execute_result"
    },
    {
     "data": {
      "image/png": "[encoded data removed]",
      "text/plain": [
       "<Figure size 1200x600 with 1 Axes>"
      ]
     },
     "metadata": {},
     "output_type": "display_data"
    }
   ],
   "source": [
    "import pandas as pd\n",
    "import matplotlib.pyplot as plt\n",
    "import random\n",
    "from datetime import datetime\n",
    "\n",
    "dates = data['date']\n",
    "dates = [date.date() for date in dates] \n",
    "avail = data['avail']\n",
    "\n",
    "# Convert dates to numerical representation for plotting on x-axis\n",
    "dates_numeric = [datetime.strptime(str(date), '%Y-%m-%d').timetuple().tm_yday for date in dates]  # Extract day of year\n",
    "\n",
    "# Define colors based on availability\n",
    "colors = ['green' if value == 1 else 'red' for value in avail]  # Green for 1, Red for 0\n",
    "\n",
    "# Create the dot plot\n",
    "plt.figure(figsize=(12, 6))  # Adjust figure size as needed\n",
    "plt.scatter(dates_numeric, avail, c=colors, marker='o', s=30, alpha=0.7, edgecolors='black')  # Customize marker size and transparency\n",
    "\n",
    "# Set axis labels and title\n",
    "plt.xlabel('Day of Year')\n",
    "plt.ylabel('Availability (0 - Unavailable, 1 - Available)')\n",
    "plt.title('Availability over Time with Seasonal Bias (Dots)')"
   ]
  },
  {
   "cell_type": "code",
   "execution_count": 63,
   "id": "e7703478-ebdd-4746-aca6-3e5bf8fb442c",
   "metadata": {},
   "outputs": [
    {
     "name": "stderr",
     "output_type": "stream",
     "text": [
      "/tmp/ipykernel_16653/2690075250.py:1: FutureWarning: The behavior of obj[i:j] with a float-dtype index is deprecated. In a future version, this will be treated as positional instead of label-based. For label-based slicing, use obj.loc[i:j] instead\n",
      "  dates = data[\"date\"][:365]\n",
      "/tmp/ipykernel_16653/2690075250.py:3: FutureWarning: The behavior of obj[i:j] with a float-dtype index is deprecated. In a future version, this will be treated as positional instead of label-based. For label-based slicing, use obj.loc[i:j] instead\n",
      "  avail = data[\"avail\"][:365]\n"
     ]
    },
    {
     "data": {
      "image/png": "[encoded data removed]",
      "text/plain": [
       "<Figure size 1200x600 with 1 Axes>"
      ]
     },
     "metadata": {},
     "output_type": "display_data"
    }
   ],
   "source": [
    "dates = data[\"date\"][:365]\n",
    "dates = [date.date() for date in dates] \n",
    "avail = data[\"avail\"][:365]\n",
    "\n",
    "# Convert dates to day of year\n",
    "day_of_year = [datetime.strptime(str(date), '%Y-%m-%d').timetuple().tm_yday for date in dates]\n",
    "\n",
    "# Separate data for plotting\n",
    "data_0 = [day for day, value in zip(day_of_year, avail) if value == 0]\n",
    "data_1 = [day for day, value in zip(day_of_year, avail) if value == 1]\n",
    "\n",
    "# Define plot\n",
    "plt.figure(figsize=(12, 6))\n",
    "\n",
    "# Plot 0s (blue circles)\n",
    "plt.plot(data_0, [0] * len(data_0), 'o', markersize=5, markerfacecolor='blue', markeredgewidth=1, markeredgecolor='black', label='Unavailable (0)')\n",
    "\n",
    "# Plot 1s (red circles)\n",
    "plt.plot(data_1, [1] * len(data_1), 'o', markersize=5, markerfacecolor='red', markeredgewidth=1, markeredgecolor='black', label='Available (1)')\n",
    "\n",
    "# Set labels and title\n",
    "plt.xlabel('Day of Year')\n",
    "plt.ylabel('Availability')\n",
    "plt.title('Availability Over Time (Separate Plots)')\n",
    "\n",
    "# Add legend\n",
    "plt.legend()\n",
    "\n",
    "# Grid and tight layout\n",
    "plt.grid(True)\n",
    "plt.tight_layout()\n",
    "\n",
    "# Display plot\n",
    "plt.show()"
   ]
  },
  {
   "cell_type": "markdown",
   "id": "955d7a04-0d7e-4aae-8e09-f106a0fbcd7a",
   "metadata": {},
   "source": [
    "# Testing"
   ]
  },
  {
   "cell_type": "code",
   "execution_count": 52,
   "id": "5ed16f16-8797-4b8b-b244-7292071ffe12",
   "metadata": {},
   "outputs": [],
   "source": [
    "import datetime\n",
    "import random"
   ]
  },
  {
   "cell_type": "code",
   "execution_count": 86,
   "id": "a03e779b-f0f7-4fd0-9deb-2cd89d8645e4",
   "metadata": {},
   "outputs": [],
   "source": [
    "num_days = 7\n",
    "\n",
    "\n",
    "def generate_random_sequence(num_days):\n",
    "    \"\"\"\n",
    "  Generates a random sequence of 0 or 1 values for the specified number of days.\n",
    "  \"\"\"\n",
    "    return np.array([random.randint(0, 1) for _ in range(num_days)])\n",
    "\n",
    "today = datetime.date(2023, 6, 1)\n",
    "# Generate random dates for the test data (optional)\n",
    "# today = datetime.datetime.combine(today, datetime.time.min)\n",
    "dates = np.round(np.array([\n",
    "  int((today + datetime.timedelta(days=i)).strftime('%j')) # Apply dt.dayofyear here\n",
    "  for i in range(num_days)\n",
    "]) / 365.0, 3)\n",
    "\n",
    "\n",
    "\n",
    "# Generate random availability data\n",
    "availability = generate_random_sequence(num_days)\n",
    "\n"
   ]
  },
  {
   "cell_type": "code",
   "execution_count": 87,
   "id": "8398edbb-cc60-4f32-8381-dc5d56584f09",
   "metadata": {},
   "outputs": [
    {
     "data": {
      "text/plain": [
       "array([0.416, 0.419, 0.422, 0.425, 0.427, 0.43 , 0.433])"
      ]
     },
     "execution_count": 87,
     "metadata": {},
     "output_type": "execute_result"
    }
   ],
   "source": [
    "dates"
   ]
  },
  {
   "cell_type": "code",
   "execution_count": 88,
   "id": "950a8c3a-1dd4-4735-b351-1ca9863748c4",
   "metadata": {},
   "outputs": [],
   "source": [
    "last_sequence= np.vstack(( availability,dates)).T"
   ]
  },
  {
   "cell_type": "code",
   "execution_count": 89,
   "id": "60dfd379-befb-42e1-b9f6-5b74a275c884",
   "metadata": {},
   "outputs": [
    {
     "name": "stdout",
     "output_type": "stream",
     "text": [
      "[[0.    0.416]\n",
      " [1.    0.419]\n",
      " [1.    0.422]\n",
      " [0.    0.425]\n",
      " [0.    0.427]\n",
      " [1.    0.43 ]\n",
      " [0.    0.433]]\n",
      "Predicted availability for the next day: 1\n"
     ]
    }
   ],
   "source": [
    "next_day_avail = predict(model, last_sequence.reshape(1, sequence_length, 2))\n",
    "print(last_sequence)\n",
    "print(f'Predicted availability for the next day: {round(next_day_avail)}')"
   ]
  },
  {
   "cell_type": "code",
   "execution_count": 7,
   "id": "15dfae99-f208-4afd-a26e-2a2d6758561d",
   "metadata": {},
   "outputs": [],
   "source": [
    "load_model = torch.load(\"model/RNNmodelDummySet-4-Loss_%12-final.h5\")"
   ]
  },
  {
   "cell_type": "code",
   "execution_count": 8,
   "id": "691a78ed-21dd-40c0-9d45-a10766335aa8",
   "metadata": {},
   "outputs": [],
   "source": [
    "torch.save(load_model.state_dict(), \"model/RNNmodelDummySet-4-Loss_%12-final_state.pt\")"
   ]
  },
  {
   "cell_type": "code",
   "execution_count": null,
   "id": "1d62e16d-e850-4ced-bcb3-9da74291d072",
   "metadata": {},
   "outputs": [],
   "source": []
  }
 ],
 "metadata": {
  "kernelspec": {
   "display_name": "Python 3 (ipykernel)",
   "language": "python",
   "name": "python3"
  },
  "language_info": {
   "codemirror_mode": {
    "name": "ipython",
    "version": 3
   },
   "file_extension": ".py",
   "mimetype": "text/x-python",
   "name": "python",
   "nbconvert_exporter": "python",
   "pygments_lexer": "ipython3",
   "version": "3.11.8"
  }
 },
 "nbformat": 4,
 "nbformat_minor": 5
}
