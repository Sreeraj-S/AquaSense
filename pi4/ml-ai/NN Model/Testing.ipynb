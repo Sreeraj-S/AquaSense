{
 "cells": [
  {
   "cell_type": "code",
   "execution_count": 5,
   "id": "d0d19023-9d87-4ed2-83b3-0ce919d9586b",
   "metadata": {},
   "outputs": [],
   "source": [
    "import torch\n",
    "import numpy as np\n",
    "from torch import nn\n",
    "import torch.optim as optim"
   ]
  },
  {
   "cell_type": "code",
   "execution_count": 2,
   "id": "7d64eb12-6c9a-455b-b533-fbd287277251",
   "metadata": {},
   "outputs": [
    {
     "data": {
      "text/plain": [
       "'cuda'"
      ]
     },
     "execution_count": 2,
     "metadata": {},
     "output_type": "execute_result"
    }
   ],
   "source": [
    "device = (\n",
    "    \"cuda\"\n",
    "    if torch.cuda.is_available()\n",
    "    else \"mps\"\n",
    "    if torch.backends.mps.is_available()\n",
    "    else \"cpu\"\n",
    ")\n",
    "device"
   ]
  },
  {
   "cell_type": "code",
   "execution_count": 11,
   "id": "18f24231-4f65-43d8-a2f4-a4e14c10d937",
   "metadata": {},
   "outputs": [],
   "source": [
    "class Model2NN(nn.Module):\n",
    "    def __init__(self):\n",
    "        super(Model2NN, self).__init__()\n",
    "        self.layer = nn.Linear(5, 10)\n",
    "        self.layer2 = nn.Linear(10, 10)\n",
    "        self.layer3 = nn.Linear(10,1)\n",
    "        self.activation = nn.Sigmoid()\n",
    " \n",
    "    # forward propagate input\n",
    "    def forward(self, X):\n",
    "        X = torch.relu(self.layer(X))\n",
    "        X=torch.relu(self.layer2(X))\n",
    "        X=self.layer3(X)\n",
    "        X = self.activation(X)\n",
    "        return X\n",
    "\n",
    "# Instantiate the model\n",
    "model1 = Model2NN().to(device)\n"
   ]
  },
  {
   "cell_type": "code",
   "execution_count": 12,
   "id": "87e4008c-1715-44a8-9980-5baeb0e35831",
   "metadata": {},
   "outputs": [],
   "source": [
    "model1 = torch.load(\"model/model2DataTime10000-10.h5\",map_location=torch.device(device))"
   ]
  },
  {
   "cell_type": "code",
   "execution_count": 13,
   "id": "833fc096-392e-41ab-9633-a80dd4fa437c",
   "metadata": {},
   "outputs": [
    {
     "data": {
      "text/plain": [
       "Model2NN(\n",
       "  (layer): Linear(in_features=5, out_features=10, bias=True)\n",
       "  (layer2): Linear(in_features=10, out_features=10, bias=True)\n",
       "  (layer3): Linear(in_features=10, out_features=1, bias=True)\n",
       "  (activation): Sigmoid()\n",
       ")"
      ]
     },
     "execution_count": 13,
     "metadata": {},
     "output_type": "execute_result"
    }
   ],
   "source": [
    "model1.eval()"
   ]
  },
  {
   "cell_type": "code",
   "execution_count": 19,
   "id": "8f4ab71c-32bb-4e2b-b218-2cf1de614719",
   "metadata": {},
   "outputs": [
    {
     "name": "stdout",
     "output_type": "stream",
     "text": [
      "tensor([23.0000,  1.0000,  0.0000,  0.2000,  0.4000], device='cuda:0')\n",
      "13\n"
     ]
    }
   ],
   "source": [
    "test1 = torch.tensor([23,1,0,20/100,40/100]).to(device)\n",
    "print(test1)\n",
    "outputs = model1(test1)\n",
    "print(int(outputs.item()*30))"
   ]
  },
  {
   "cell_type": "code",
   "execution_count": null,
   "id": "111c0409-9dad-4171-ba62-9d1a910dbc16",
   "metadata": {},
   "outputs": [],
   "source": []
  }
 ],
 "metadata": {
  "kernelspec": {
   "display_name": "Python 3 (ipykernel)",
   "language": "python",
   "name": "python3"
  },
  "language_info": {
   "codemirror_mode": {
    "name": "ipython",
    "version": 3
   },
   "file_extension": ".py",
   "mimetype": "text/x-python",
   "name": "python",
   "nbconvert_exporter": "python",
   "pygments_lexer": "ipython3",
   "version": "3.11.8"
  }
 },
 "nbformat": 4,
 "nbformat_minor": 5
}
